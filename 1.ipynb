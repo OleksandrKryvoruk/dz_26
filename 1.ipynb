{
 "cells": [
  {
   "cell_type": "markdown",
   "id": "7bcf03d4",
   "metadata": {},
   "source": [
    "**Умова:**\n",
    "\n",
    "Ймовірність того, що телевізор витримає гарантійний термін роботи дорівнює 0,9 для всіх телевізорів, які обслуговує\n",
    "гарантійна майстерня. Оцінити ймовірність того, що число телевізорів, які витримають гарантійний термін роботи,\n",
    "буде в межах [85 : 95]"
   ]
  },
  {
   "cell_type": "markdown",
   "id": "b4871637",
   "metadata": {},
   "source": [
    "**Вирішення:**\n",
    "    \n",
    "Вірогідність того, що кожен телевізор (із всіх, що обслуговує майстерня), витримає гарантійний термін сумарно є незалежними\n",
    "величинами одна від одної, і сукупніть таких величин називається біномінальною."
   ]
  },
  {
   "cell_type": "markdown",
   "id": "e36ce7da",
   "metadata": {},
   "source": [
    "**1. Знайдемо математичне очікування.**\n",
    "\n",
    "Математичне очікування суми всіх величин є сума математичних очікувань кожної величини окремо, а оскільки\n",
    "вони однакові:"
   ]
  },
  {
   "cell_type": "code",
   "execution_count": 8,
   "id": "7fcb451c",
   "metadata": {},
   "outputs": [
    {
     "name": "stdout",
     "output_type": "stream",
     "text": [
      "Математичне очікування робочої кількості телевізорів =   90.0\n"
     ]
    }
   ],
   "source": [
    "p = 0.9\n",
    "n = 100\n",
    "M_B = n*p\n",
    "print(\"Математичне очікування робочої кількості телевізорів =  \", M_B)"
   ]
  },
  {
   "cell_type": "markdown",
   "id": "84ba77c3",
   "metadata": {},
   "source": [
    "**2. Знайдемо дисперсію.**\n",
    "\n",
    "Дисперсія суми незалежних випадкових величин є сума дисперсій:"
   ]
  },
  {
   "cell_type": "code",
   "execution_count": 9,
   "id": "6d1372ff",
   "metadata": {},
   "outputs": [
    {
     "name": "stdout",
     "output_type": "stream",
     "text": [
      "Дисперсія =   9.0\n"
     ]
    }
   ],
   "source": [
    "D_B = n * p * (1 - p)\n",
    "print(\"Дисперсія =  \", round(D_B, 2))"
   ]
  },
  {
   "cell_type": "markdown",
   "id": "2a88c5a2",
   "metadata": {},
   "source": [
    "**3. Знайдемо ймовірність ситуації.**\n",
    "\n",
    "Оскільки межі інтервала 85 < X < 95 симетричні, відносно математичного очікування  М_В = 90, то для оцінки вірогідності \n",
    "даного випадку можна примінити нерівність Чебишева:\n",
    "    \n",
    "$$P( |X-M(X)|  \\leqslant  \\varepsilon )  \\geqslant 1 - \\frac{D(X)}{\\varepsilon^2}$$   \n",
    "    \n",
    "\n",
    "де $\\varepsilon = 95 - 90 = |85 - 90| = 5$\n"
   ]
  },
  {
   "cell_type": "code",
   "execution_count": 7,
   "id": "3848ed0a",
   "metadata": {},
   "outputs": [
    {
     "name": "stdout",
     "output_type": "stream",
     "text": [
      "0.64\n"
     ]
    }
   ],
   "source": [
    "e = 5\n",
    "P = 1 - D_B / e**2\n",
    "print(round(P, 2))"
   ]
  },
  {
   "cell_type": "markdown",
   "id": "d8c4299d",
   "metadata": {},
   "source": [
    "Вірогідніть того, що кількість телевізорів, що пройдуть гарантійний термін буде в межах від 85 до 95 дорівнює не менше 0,64"
   ]
  }
 ],
 "metadata": {
  "kernelspec": {
   "display_name": "Python 3 (ipykernel)",
   "language": "python",
   "name": "python3"
  },
  "language_info": {
   "codemirror_mode": {
    "name": "ipython",
    "version": 3
   },
   "file_extension": ".py",
   "mimetype": "text/x-python",
   "name": "python",
   "nbconvert_exporter": "python",
   "pygments_lexer": "ipython3",
   "version": "3.10.7"
  }
 },
 "nbformat": 4,
 "nbformat_minor": 5
}
